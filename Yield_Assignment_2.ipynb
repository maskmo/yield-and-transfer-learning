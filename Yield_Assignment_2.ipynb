{
  "nbformat": 4,
  "nbformat_minor": 0,
  "metadata": {
    "colab": {
      "provenance": [],
      "gpuType": "T4",
      "authorship_tag": "ABX9TyMqExcuMnT0Yakq5eCBRR10",
      "include_colab_link": true
    },
    "kernelspec": {
      "name": "python3",
      "display_name": "Python 3"
    },
    "language_info": {
      "name": "python"
    },
    "widgets": {
      "application/vnd.jupyter.widget-state+json": {
        "31420be400da4fad8c69d23261f9aa5c": {
          "model_module": "@jupyter-widgets/controls",
          "model_name": "HBoxModel",
          "model_module_version": "1.5.0",
          "state": {
            "_dom_classes": [],
            "_model_module": "@jupyter-widgets/controls",
            "_model_module_version": "1.5.0",
            "_model_name": "HBoxModel",
            "_view_count": null,
            "_view_module": "@jupyter-widgets/controls",
            "_view_module_version": "1.5.0",
            "_view_name": "HBoxView",
            "box_style": "",
            "children": [
              "IPY_MODEL_ea4294214f2241b3b0d7660acb3077f9",
              "IPY_MODEL_4c2add7284424c859bba4454d6020baf",
              "IPY_MODEL_5b63f6fbf2ef4f739b7cd7e749f2e19e"
            ],
            "layout": "IPY_MODEL_e7a1eb6ccc5b4e98813b25b687502fc9"
          }
        },
        "ea4294214f2241b3b0d7660acb3077f9": {
          "model_module": "@jupyter-widgets/controls",
          "model_name": "HTMLModel",
          "model_module_version": "1.5.0",
          "state": {
            "_dom_classes": [],
            "_model_module": "@jupyter-widgets/controls",
            "_model_module_version": "1.5.0",
            "_model_name": "HTMLModel",
            "_view_count": null,
            "_view_module": "@jupyter-widgets/controls",
            "_view_module_version": "1.5.0",
            "_view_name": "HTMLView",
            "description": "",
            "description_tooltip": null,
            "layout": "IPY_MODEL_03d743be12cc409aa27a03c0b2f9fc47",
            "placeholder": "​",
            "style": "IPY_MODEL_3ec9e408a1314bf5aab59f39b4745d35",
            "value": "Dl Completed...: 100%"
          }
        },
        "4c2add7284424c859bba4454d6020baf": {
          "model_module": "@jupyter-widgets/controls",
          "model_name": "FloatProgressModel",
          "model_module_version": "1.5.0",
          "state": {
            "_dom_classes": [],
            "_model_module": "@jupyter-widgets/controls",
            "_model_module_version": "1.5.0",
            "_model_name": "FloatProgressModel",
            "_view_count": null,
            "_view_module": "@jupyter-widgets/controls",
            "_view_module_version": "1.5.0",
            "_view_name": "ProgressView",
            "bar_style": "success",
            "description": "",
            "description_tooltip": null,
            "layout": "IPY_MODEL_76d4307d8b144813bfb965beb114774c",
            "max": 5,
            "min": 0,
            "orientation": "horizontal",
            "style": "IPY_MODEL_3e6e53690ff84b2590644e19e4455fef",
            "value": 5
          }
        },
        "5b63f6fbf2ef4f739b7cd7e749f2e19e": {
          "model_module": "@jupyter-widgets/controls",
          "model_name": "HTMLModel",
          "model_module_version": "1.5.0",
          "state": {
            "_dom_classes": [],
            "_model_module": "@jupyter-widgets/controls",
            "_model_module_version": "1.5.0",
            "_model_name": "HTMLModel",
            "_view_count": null,
            "_view_module": "@jupyter-widgets/controls",
            "_view_module_version": "1.5.0",
            "_view_name": "HTMLView",
            "description": "",
            "description_tooltip": null,
            "layout": "IPY_MODEL_9806c478a405440292423e60dc9a7ed8",
            "placeholder": "​",
            "style": "IPY_MODEL_eb37ce1952dd4971af35adce86369747",
            "value": " 5/5 [00:03&lt;00:00,  1.55 file/s]"
          }
        },
        "e7a1eb6ccc5b4e98813b25b687502fc9": {
          "model_module": "@jupyter-widgets/base",
          "model_name": "LayoutModel",
          "model_module_version": "1.2.0",
          "state": {
            "_model_module": "@jupyter-widgets/base",
            "_model_module_version": "1.2.0",
            "_model_name": "LayoutModel",
            "_view_count": null,
            "_view_module": "@jupyter-widgets/base",
            "_view_module_version": "1.2.0",
            "_view_name": "LayoutView",
            "align_content": null,
            "align_items": null,
            "align_self": null,
            "border": null,
            "bottom": null,
            "display": null,
            "flex": null,
            "flex_flow": null,
            "grid_area": null,
            "grid_auto_columns": null,
            "grid_auto_flow": null,
            "grid_auto_rows": null,
            "grid_column": null,
            "grid_gap": null,
            "grid_row": null,
            "grid_template_areas": null,
            "grid_template_columns": null,
            "grid_template_rows": null,
            "height": null,
            "justify_content": null,
            "justify_items": null,
            "left": null,
            "margin": null,
            "max_height": null,
            "max_width": null,
            "min_height": null,
            "min_width": null,
            "object_fit": null,
            "object_position": null,
            "order": null,
            "overflow": null,
            "overflow_x": null,
            "overflow_y": null,
            "padding": null,
            "right": null,
            "top": null,
            "visibility": null,
            "width": null
          }
        },
        "03d743be12cc409aa27a03c0b2f9fc47": {
          "model_module": "@jupyter-widgets/base",
          "model_name": "LayoutModel",
          "model_module_version": "1.2.0",
          "state": {
            "_model_module": "@jupyter-widgets/base",
            "_model_module_version": "1.2.0",
            "_model_name": "LayoutModel",
            "_view_count": null,
            "_view_module": "@jupyter-widgets/base",
            "_view_module_version": "1.2.0",
            "_view_name": "LayoutView",
            "align_content": null,
            "align_items": null,
            "align_self": null,
            "border": null,
            "bottom": null,
            "display": null,
            "flex": null,
            "flex_flow": null,
            "grid_area": null,
            "grid_auto_columns": null,
            "grid_auto_flow": null,
            "grid_auto_rows": null,
            "grid_column": null,
            "grid_gap": null,
            "grid_row": null,
            "grid_template_areas": null,
            "grid_template_columns": null,
            "grid_template_rows": null,
            "height": null,
            "justify_content": null,
            "justify_items": null,
            "left": null,
            "margin": null,
            "max_height": null,
            "max_width": null,
            "min_height": null,
            "min_width": null,
            "object_fit": null,
            "object_position": null,
            "order": null,
            "overflow": null,
            "overflow_x": null,
            "overflow_y": null,
            "padding": null,
            "right": null,
            "top": null,
            "visibility": null,
            "width": null
          }
        },
        "3ec9e408a1314bf5aab59f39b4745d35": {
          "model_module": "@jupyter-widgets/controls",
          "model_name": "DescriptionStyleModel",
          "model_module_version": "1.5.0",
          "state": {
            "_model_module": "@jupyter-widgets/controls",
            "_model_module_version": "1.5.0",
            "_model_name": "DescriptionStyleModel",
            "_view_count": null,
            "_view_module": "@jupyter-widgets/base",
            "_view_module_version": "1.2.0",
            "_view_name": "StyleView",
            "description_width": ""
          }
        },
        "76d4307d8b144813bfb965beb114774c": {
          "model_module": "@jupyter-widgets/base",
          "model_name": "LayoutModel",
          "model_module_version": "1.2.0",
          "state": {
            "_model_module": "@jupyter-widgets/base",
            "_model_module_version": "1.2.0",
            "_model_name": "LayoutModel",
            "_view_count": null,
            "_view_module": "@jupyter-widgets/base",
            "_view_module_version": "1.2.0",
            "_view_name": "LayoutView",
            "align_content": null,
            "align_items": null,
            "align_self": null,
            "border": null,
            "bottom": null,
            "display": null,
            "flex": null,
            "flex_flow": null,
            "grid_area": null,
            "grid_auto_columns": null,
            "grid_auto_flow": null,
            "grid_auto_rows": null,
            "grid_column": null,
            "grid_gap": null,
            "grid_row": null,
            "grid_template_areas": null,
            "grid_template_columns": null,
            "grid_template_rows": null,
            "height": null,
            "justify_content": null,
            "justify_items": null,
            "left": null,
            "margin": null,
            "max_height": null,
            "max_width": null,
            "min_height": null,
            "min_width": null,
            "object_fit": null,
            "object_position": null,
            "order": null,
            "overflow": null,
            "overflow_x": null,
            "overflow_y": null,
            "padding": null,
            "right": null,
            "top": null,
            "visibility": null,
            "width": null
          }
        },
        "3e6e53690ff84b2590644e19e4455fef": {
          "model_module": "@jupyter-widgets/controls",
          "model_name": "ProgressStyleModel",
          "model_module_version": "1.5.0",
          "state": {
            "_model_module": "@jupyter-widgets/controls",
            "_model_module_version": "1.5.0",
            "_model_name": "ProgressStyleModel",
            "_view_count": null,
            "_view_module": "@jupyter-widgets/base",
            "_view_module_version": "1.2.0",
            "_view_name": "StyleView",
            "bar_color": null,
            "description_width": ""
          }
        },
        "9806c478a405440292423e60dc9a7ed8": {
          "model_module": "@jupyter-widgets/base",
          "model_name": "LayoutModel",
          "model_module_version": "1.2.0",
          "state": {
            "_model_module": "@jupyter-widgets/base",
            "_model_module_version": "1.2.0",
            "_model_name": "LayoutModel",
            "_view_count": null,
            "_view_module": "@jupyter-widgets/base",
            "_view_module_version": "1.2.0",
            "_view_name": "LayoutView",
            "align_content": null,
            "align_items": null,
            "align_self": null,
            "border": null,
            "bottom": null,
            "display": null,
            "flex": null,
            "flex_flow": null,
            "grid_area": null,
            "grid_auto_columns": null,
            "grid_auto_flow": null,
            "grid_auto_rows": null,
            "grid_column": null,
            "grid_gap": null,
            "grid_row": null,
            "grid_template_areas": null,
            "grid_template_columns": null,
            "grid_template_rows": null,
            "height": null,
            "justify_content": null,
            "justify_items": null,
            "left": null,
            "margin": null,
            "max_height": null,
            "max_width": null,
            "min_height": null,
            "min_width": null,
            "object_fit": null,
            "object_position": null,
            "order": null,
            "overflow": null,
            "overflow_x": null,
            "overflow_y": null,
            "padding": null,
            "right": null,
            "top": null,
            "visibility": null,
            "width": null
          }
        },
        "eb37ce1952dd4971af35adce86369747": {
          "model_module": "@jupyter-widgets/controls",
          "model_name": "DescriptionStyleModel",
          "model_module_version": "1.5.0",
          "state": {
            "_model_module": "@jupyter-widgets/controls",
            "_model_module_version": "1.5.0",
            "_model_name": "DescriptionStyleModel",
            "_view_count": null,
            "_view_module": "@jupyter-widgets/base",
            "_view_module_version": "1.2.0",
            "_view_name": "StyleView",
            "description_width": ""
          }
        }
      }
    },
    "accelerator": "GPU"
  },
  "cells": [
    {
      "cell_type": "markdown",
      "metadata": {
        "id": "view-in-github",
        "colab_type": "text"
      },
      "source": [
        "<a href=\"https://colab.research.google.com/github/maskmo/yield-and-transfer-learning/blob/main/Yield_Assignment_2.ipynb\" target=\"_parent\"><img src=\"https://colab.research.google.com/assets/colab-badge.svg\" alt=\"Open In Colab\"/></a>"
      ]
    },
    {
      "cell_type": "code",
      "source": [
        "import matplotlib.pylab as plt\n",
        "import numpy as np\n",
        "import tensorflow as tf\n",
        "from functools import partial"
      ],
      "metadata": {
        "id": "4zWJ6w8Y9Hr7"
      },
      "execution_count": 11,
      "outputs": []
    },
    {
      "cell_type": "markdown",
      "source": [
        "# Transfer Method for CLassification"
      ],
      "metadata": {
        "id": "nTzE-otMZ5ga"
      }
    },
    {
      "cell_type": "code",
      "execution_count": 3,
      "metadata": {
        "colab": {
          "base_uri": "https://localhost:8080/",
          "height": 84,
          "referenced_widgets": [
            "31420be400da4fad8c69d23261f9aa5c",
            "ea4294214f2241b3b0d7660acb3077f9",
            "4c2add7284424c859bba4454d6020baf",
            "5b63f6fbf2ef4f739b7cd7e749f2e19e",
            "e7a1eb6ccc5b4e98813b25b687502fc9",
            "03d743be12cc409aa27a03c0b2f9fc47",
            "3ec9e408a1314bf5aab59f39b4745d35",
            "76d4307d8b144813bfb965beb114774c",
            "3e6e53690ff84b2590644e19e4455fef",
            "9806c478a405440292423e60dc9a7ed8",
            "eb37ce1952dd4971af35adce86369747"
          ]
        },
        "id": "qG6j3iTmeZZu",
        "outputId": "4dc0efc9-954e-4902-a8cf-4144947b8101"
      },
      "outputs": [
        {
          "output_type": "stream",
          "name": "stdout",
          "text": [
            "Downloading and preparing dataset 218.21 MiB (download: 218.21 MiB, generated: 221.83 MiB, total: 440.05 MiB) to /root/tensorflow_datasets/tf_flowers/3.0.1...\n"
          ]
        },
        {
          "output_type": "display_data",
          "data": {
            "text/plain": [
              "Dl Completed...:   0%|          | 0/5 [00:00<?, ? file/s]"
            ],
            "application/vnd.jupyter.widget-view+json": {
              "version_major": 2,
              "version_minor": 0,
              "model_id": "31420be400da4fad8c69d23261f9aa5c"
            }
          },
          "metadata": {}
        },
        {
          "output_type": "stream",
          "name": "stdout",
          "text": [
            "Dataset tf_flowers downloaded and prepared to /root/tensorflow_datasets/tf_flowers/3.0.1. Subsequent calls will reuse this data.\n"
          ]
        }
      ],
      "source": [
        "import tensorflow_datasets as tfds\n",
        "\n",
        "dataset, info = tfds.load(\"tf_flowers\", as_supervised=True, with_info=True)\n",
        "dataset_size = info.splits[\"train\"].num_examples\n",
        "class_names = info.features[\"label\"].names\n",
        "n_classes = info.features[\"label\"].num_classes"
      ]
    },
    {
      "cell_type": "code",
      "source": [
        "test_set_raw, valid_set_raw, train_set_raw = tfds.load(\n",
        "    \"tf_flowers\",\n",
        "    split=[\"train[:10%]\", \"train[10%:25%]\", \"train[25%:]\"],\n",
        "    as_supervised=True)"
      ],
      "metadata": {
        "id": "ofAD9s1t8wct"
      },
      "execution_count": 17,
      "outputs": []
    },
    {
      "cell_type": "code",
      "source": [
        "batch_size = 32\n",
        "preprocess = tf.keras.Sequential([\n",
        "    tf.keras.layers.Resizing(height=224, width=224, crop_to_aspect_ratio=True),\n",
        "    tf.keras.layers.Lambda(tf.keras.applications.xception.preprocess_input)\n",
        "])\n",
        "train_set = train_set_raw.map(lambda X, y: (preprocess(X), y))\n",
        "train_set = train_set.shuffle(1000, seed=42).batch(batch_size).prefetch(1)\n",
        "valid_set = valid_set_raw.map(lambda X, y: (preprocess(X), y)).batch(batch_size)\n",
        "test_set = test_set_raw.map(lambda X, y: (preprocess(X), y)).batch(batch_size)"
      ],
      "metadata": {
        "id": "LBdT-m6D9k3p",
        "colab": {
          "base_uri": "https://localhost:8080/"
        },
        "outputId": "c7a79fd0-b3a8-422a-9d18-0908fcda23da"
      },
      "execution_count": 19,
      "outputs": [
        {
          "output_type": "stream",
          "name": "stdout",
          "text": [
            "\n"
          ]
        }
      ]
    },
    {
      "cell_type": "code",
      "source": [
        "data_augmentation = tf.keras.Sequential([\n",
        "    tf.keras.layers.RandomFlip(mode=\"horizontal\", seed=42),\n",
        "    tf.keras.layers.RandomRotation(factor=0.05, seed=42),\n",
        "    tf.keras.layers.RandomContrast(factor=0.2, seed=42)\n",
        "])"
      ],
      "metadata": {
        "id": "ubBjWYBg89YQ"
      },
      "execution_count": 6,
      "outputs": []
    },
    {
      "cell_type": "code",
      "source": [
        "base_model = tf.keras.applications.xception.Xception(weights=\"imagenet\",\n",
        "                                                     include_top=False)\n",
        "avg = tf.keras.layers.GlobalAveragePooling2D()(base_model.output)\n",
        "output = tf.keras.layers.Dense(n_classes, activation=\"softmax\")(avg)\n",
        "model = tf.keras.Model(inputs=base_model.input, outputs=output)\n",
        "\n",
        "for layer in base_model.layers:\n",
        "    layer.trainable = False"
      ],
      "metadata": {
        "id": "pt_Ef5zc9LOC",
        "colab": {
          "base_uri": "https://localhost:8080/"
        },
        "outputId": "7705f164-b4a1-4acb-85f5-274dec4b103f"
      },
      "execution_count": 7,
      "outputs": [
        {
          "output_type": "stream",
          "name": "stdout",
          "text": [
            "Downloading data from https://storage.googleapis.com/tensorflow/keras-applications/xception/xception_weights_tf_dim_ordering_tf_kernels_notop.h5\n",
            "83683744/83683744 [==============================] - 0s 0us/step\n"
          ]
        }
      ]
    },
    {
      "cell_type": "code",
      "source": [
        "optimizer = tf.keras.optimizers.SGD(learning_rate=0.1, momentum=0.9)\n",
        "model.compile(loss=\"sparse_categorical_crossentropy\", optimizer=optimizer,\n",
        "              metrics=[\"accuracy\"])\n",
        "history = model.fit(train_set, validation_data=valid_set, epochs=3)"
      ],
      "metadata": {
        "colab": {
          "base_uri": "https://localhost:8080/"
        },
        "id": "lfyuk7IH-X0b",
        "outputId": "22f76604-783b-4854-815e-19c4d6060509"
      },
      "execution_count": 8,
      "outputs": [
        {
          "output_type": "stream",
          "name": "stdout",
          "text": [
            "Epoch 1/3\n",
            "86/86 [==============================] - 29s 173ms/step - loss: 0.7008 - accuracy: 0.8114 - val_loss: 0.6353 - val_accuracy: 0.8385\n",
            "Epoch 2/3\n",
            "86/86 [==============================] - 14s 159ms/step - loss: 0.3100 - accuracy: 0.9124 - val_loss: 0.5588 - val_accuracy: 0.8693\n",
            "Epoch 3/3\n",
            "86/86 [==============================] - 15s 166ms/step - loss: 0.2125 - accuracy: 0.9335 - val_loss: 0.5285 - val_accuracy: 0.8693\n"
          ]
        }
      ]
    },
    {
      "cell_type": "code",
      "source": [
        "for layer in base_model.layers[56:]:\n",
        "    layer.trainable = True\n",
        "\n",
        "optimizer = tf.keras.optimizers.SGD(learning_rate=0.01, momentum=0.9)\n",
        "model.compile(loss=\"sparse_categorical_crossentropy\", optimizer=optimizer,\n",
        "              metrics=[\"accuracy\"])\n",
        "history = model.fit(train_set, validation_data=valid_set, epochs=9)"
      ],
      "metadata": {
        "colab": {
          "base_uri": "https://localhost:8080/"
        },
        "id": "grwpiuBN-kEX",
        "outputId": "56195657-ec16-438e-c558-7680b4da09d5"
      },
      "execution_count": 10,
      "outputs": [
        {
          "output_type": "stream",
          "name": "stdout",
          "text": [
            "Epoch 1/9\n",
            "86/86 [==============================] - 39s 312ms/step - loss: 0.2948 - accuracy: 0.9019 - val_loss: 0.4121 - val_accuracy: 0.8820\n",
            "Epoch 2/9\n",
            "86/86 [==============================] - 27s 307ms/step - loss: 0.0417 - accuracy: 0.9876 - val_loss: 0.3423 - val_accuracy: 0.9111\n",
            "Epoch 3/9\n",
            "86/86 [==============================] - 28s 311ms/step - loss: 0.0219 - accuracy: 0.9949 - val_loss: 0.3320 - val_accuracy: 0.9074\n",
            "Epoch 4/9\n",
            "86/86 [==============================] - 28s 311ms/step - loss: 0.0068 - accuracy: 0.9989 - val_loss: 0.3274 - val_accuracy: 0.9165\n",
            "Epoch 5/9\n",
            "86/86 [==============================] - 28s 317ms/step - loss: 0.0033 - accuracy: 0.9993 - val_loss: 0.3366 - val_accuracy: 0.9129\n",
            "Epoch 6/9\n",
            "86/86 [==============================] - 29s 328ms/step - loss: 0.0061 - accuracy: 0.9982 - val_loss: 0.3442 - val_accuracy: 0.9038\n",
            "Epoch 7/9\n",
            "86/86 [==============================] - 30s 346ms/step - loss: 0.0041 - accuracy: 0.9989 - val_loss: 0.3380 - val_accuracy: 0.9093\n",
            "Epoch 8/9\n",
            "86/86 [==============================] - 29s 331ms/step - loss: 0.0025 - accuracy: 0.9989 - val_loss: 0.3186 - val_accuracy: 0.9165\n",
            "Epoch 9/9\n",
            "86/86 [==============================] - 29s 330ms/step - loss: 0.0020 - accuracy: 0.9989 - val_loss: 0.3303 - val_accuracy: 0.9165\n"
          ]
        }
      ]
    },
    {
      "cell_type": "markdown",
      "source": [
        "# Non Transfer Classification"
      ],
      "metadata": {
        "id": "s8RLM_40ZxHc"
      }
    },
    {
      "cell_type": "code",
      "source": [
        "DefaultConv2D = partial(tf.keras.layers.Conv2D, kernel_size=3, padding=\"same\",\n",
        "                        activation=\"relu\", kernel_initializer=\"he_normal\")\n",
        "non_transfer = tf.keras.Sequential([\n",
        "    DefaultConv2D(filters=64, kernel_size=7, input_shape=[224, 224, 3]),\n",
        "    tf.keras.layers.MaxPool2D(),\n",
        "    DefaultConv2D(filters=128),\n",
        "    DefaultConv2D(filters=128),\n",
        "    tf.keras.layers.MaxPool2D(),\n",
        "    tf.keras.layers.Flatten(),\n",
        "    tf.keras.layers.Dense(units=128, activation=\"relu\",\n",
        "                          kernel_initializer=\"he_normal\"),\n",
        "    tf.keras.layers.Dropout(0.5),\n",
        "    tf.keras.layers.Dense(units=64, activation=\"relu\",\n",
        "                          kernel_initializer=\"he_normal\"),\n",
        "    tf.keras.layers.Dropout(0.5),\n",
        "    tf.keras.layers.Dense(units=10, activation=\"softmax\")\n",
        "])"
      ],
      "metadata": {
        "id": "p30LoMetYa7f"
      },
      "execution_count": 40,
      "outputs": []
    },
    {
      "cell_type": "code",
      "source": [
        "non_transfer.compile(loss=\"sparse_categorical_crossentropy\", optimizer=\"SGD\",\n",
        "              metrics=[\"accuracy\"])\n",
        "history = non_transfer.fit(train_set, epochs=9, validation_data=valid_set)\n",
        "score = non_transfer.evaluate(train_set)\n",
        "score = model.evaluate(train_set)"
      ],
      "metadata": {
        "colab": {
          "base_uri": "https://localhost:8080/"
        },
        "id": "JKXh_t04Zq0h",
        "outputId": "aea8ec83-b1d6-45f8-f640-3920ed474bb3"
      },
      "execution_count": 47,
      "outputs": [
        {
          "output_type": "stream",
          "name": "stdout",
          "text": [
            "Epoch 1/9\n",
            "86/86 [==============================] - 57s 156ms/step - loss: 1.4191 - accuracy: 0.4204 - val_loss: 1.2638 - val_accuracy: 0.4628\n",
            "Epoch 2/9\n",
            "86/86 [==============================] - 14s 149ms/step - loss: 1.3718 - accuracy: 0.4132 - val_loss: 1.2577 - val_accuracy: 0.4646\n",
            "Epoch 3/9\n",
            "86/86 [==============================] - 15s 158ms/step - loss: 1.3109 - accuracy: 0.4542 - val_loss: 1.2270 - val_accuracy: 0.4682\n",
            "Epoch 4/9\n",
            "86/86 [==============================] - 14s 150ms/step - loss: 1.2727 - accuracy: 0.4720 - val_loss: 1.1360 - val_accuracy: 0.5281\n",
            "Epoch 5/9\n",
            "86/86 [==============================] - 15s 161ms/step - loss: 1.2395 - accuracy: 0.4967 - val_loss: 1.1169 - val_accuracy: 0.5172\n",
            "Epoch 6/9\n",
            "86/86 [==============================] - 15s 159ms/step - loss: 1.2119 - accuracy: 0.5025 - val_loss: 1.0921 - val_accuracy: 0.5644\n",
            "Epoch 7/9\n",
            "86/86 [==============================] - 15s 160ms/step - loss: 1.1487 - accuracy: 0.5356 - val_loss: 1.0825 - val_accuracy: 0.5662\n",
            "Epoch 8/9\n",
            "86/86 [==============================] - 14s 153ms/step - loss: 1.1134 - accuracy: 0.5458 - val_loss: 1.0637 - val_accuracy: 0.5572\n",
            "Epoch 9/9\n",
            "86/86 [==============================] - 14s 155ms/step - loss: 1.0601 - accuracy: 0.5723 - val_loss: 1.0438 - val_accuracy: 0.5608\n",
            "86/86 [==============================] - 5s 46ms/step - loss: 0.8930 - accuracy: 0.6214\n",
            "86/86 [==============================] - 13s 143ms/step - loss: 0.7251 - accuracy: 0.8725\n"
          ]
        }
      ]
    },
    {
      "cell_type": "markdown",
      "source": [
        "The CNN I used with transfer learning performed with an accuracy of around 0.89 on this data set, while the regular CNN score scores from 0.6-0.7 on each run with different optimizers and hyperparameters. The transfer learning method worked much better."
      ],
      "metadata": {
        "id": "mTnZRicve6Gn"
      }
    }
  ]
}